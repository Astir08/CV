{
  "nbformat": 4,
  "nbformat_minor": 0,
  "metadata": {
    "colab": {
      "provenance": [],
      "authorship_tag": "ABX9TyMbE4OPKEJzMentPUsyD54l",
      "include_colab_link": true
    },
    "kernelspec": {
      "name": "python3",
      "display_name": "Python 3"
    },
    "language_info": {
      "name": "python"
    }
  },
  "cells": [
    {
      "cell_type": "markdown",
      "metadata": {
        "id": "view-in-github",
        "colab_type": "text"
      },
      "source": [
        "<a href=\"https://colab.research.google.com/github/Astir08/CV/blob/main/python_test_iot.ipynb\" target=\"_parent\"><img src=\"https://colab.research.google.com/assets/colab-badge.svg\" alt=\"Open In Colab\"/></a>"
      ]
    },
    {
      "cell_type": "code",
      "execution_count": 1,
      "metadata": {
        "id": "yPGnwF-K5R2c"
      },
      "outputs": [],
      "source": [
        "#Question_1\n",
        "odd_num = (1,3,5,7,9)"
      ]
    },
    {
      "cell_type": "code",
      "source": [
        "print(*odd_num, sep = \"\\n\")"
      ],
      "metadata": {
        "colab": {
          "base_uri": "https://localhost:8080/"
        },
        "id": "hoTmRDq45y7V",
        "outputId": "4949dbd4-4b69-4c25-a273-096d3fa14b7b"
      },
      "execution_count": 2,
      "outputs": [
        {
          "output_type": "stream",
          "name": "stdout",
          "text": [
            "1\n",
            "3\n",
            "5\n",
            "7\n",
            "9\n"
          ]
        }
      ]
    },
    {
      "cell_type": "code",
      "source": [
        "#Question_2\n",
        "total = 0\n",
        "for x in range(0, len(odd_num)):\n",
        "    total = total + odd_num[x]\n",
        "print(total)"
      ],
      "metadata": {
        "colab": {
          "base_uri": "https://localhost:8080/"
        },
        "id": "GAPxx7cK68Dl",
        "outputId": "72ee847f-9ec5-43c0-fcfc-9813c73bf2f1"
      },
      "execution_count": 3,
      "outputs": [
        {
          "output_type": "stream",
          "name": "stdout",
          "text": [
            "25\n"
          ]
        }
      ]
    },
    {
      "cell_type": "code",
      "source": [
        "odd = odd_num[::-1]"
      ],
      "metadata": {
        "id": "F8f5ZOk9BBBv"
      },
      "execution_count": 4,
      "outputs": []
    },
    {
      "cell_type": "code",
      "source": [
        "even_num = (2,4,6,8,10)"
      ],
      "metadata": {
        "id": "p5iXf9TWBRVX"
      },
      "execution_count": 5,
      "outputs": []
    },
    {
      "cell_type": "code",
      "source": [
        "#Question_3a\n",
        "print(odd)"
      ],
      "metadata": {
        "colab": {
          "base_uri": "https://localhost:8080/"
        },
        "id": "sNf7bGVABg6f",
        "outputId": "39739195-aae9-4b95-988a-4264eab20967"
      },
      "execution_count": 6,
      "outputs": [
        {
          "output_type": "stream",
          "name": "stdout",
          "text": [
            "(9, 7, 5, 3, 1)\n"
          ]
        }
      ]
    },
    {
      "cell_type": "code",
      "source": [
        "#Question_3b\n",
        "even = []\n",
        "for value in even_num:\n",
        "  even = [value] + even\n",
        "  print(even)"
      ],
      "metadata": {
        "colab": {
          "base_uri": "https://localhost:8080/"
        },
        "id": "Lj8WmGF5CJU_",
        "outputId": "72fbf19e-df56-4f7c-893e-3d600b9730d4"
      },
      "execution_count": 13,
      "outputs": [
        {
          "output_type": "stream",
          "name": "stdout",
          "text": [
            "[2]\n",
            "[4, 2]\n",
            "[6, 4, 2]\n",
            "[8, 6, 4, 2]\n",
            "[10, 8, 6, 4, 2]\n"
          ]
        }
      ]
    },
    {
      "cell_type": "code",
      "source": [
        "#Question_5\n",
        "even_1 = list(set(even_num))\n",
        "even_1.sort()\n",
        "\n",
        "if input(\"Enter any number\") == even_1.sort():\n",
        "  print('its second highest')\n",
        "else:\n",
        "  print(even_1[-2])"
      ],
      "metadata": {
        "colab": {
          "base_uri": "https://localhost:8080/"
        },
        "id": "NEzq65mwEqpO",
        "outputId": "0389bece-36dc-41d3-8170-c711eef89762"
      },
      "execution_count": 33,
      "outputs": [
        {
          "output_type": "stream",
          "name": "stdout",
          "text": [
            "Enter any number8\n",
            "8\n"
          ]
        }
      ]
    },
    {
      "cell_type": "code",
      "source": [
        "string0 = ('Ahmad', 'Abu_Bakar', 'Umar', 'Usman', 'Ali')"
      ],
      "metadata": {
        "id": "T5J_pclQFfws"
      },
      "execution_count": 38,
      "outputs": []
    },
    {
      "cell_type": "code",
      "source": [
        "#Question_6\n",
        "strg=list(string0)\n",
        "print(strg)\n",
        "\n",
        "strg0=sorted(strg)\n",
        "a_str=''.join(strg0)\n",
        "print(strg0)\n",
        "\n",
        "strg1=sorted(strg, reverse =True)\n",
        "strg1=''.join(strg1)\n",
        "print(strg1)"
      ],
      "metadata": {
        "colab": {
          "base_uri": "https://localhost:8080/"
        },
        "id": "kmQjafufJYSI",
        "outputId": "c6d53f84-6b7d-483b-a2e1-7eb3b79823f5"
      },
      "execution_count": 41,
      "outputs": [
        {
          "output_type": "stream",
          "name": "stdout",
          "text": [
            "['Ahmad', 'Abu_Bakar', 'Umar', 'Usman', 'Ali']\n",
            "['Abu_Bakar', 'Ahmad', 'Ali', 'Umar', 'Usman']\n",
            "UsmanUmarAliAhmadAbu_Bakar\n"
          ]
        }
      ]
    },
    {
      "cell_type": "code",
      "source": [
        "#Question_7\n",
        "from collections import OrderedDict\n",
        "\n",
        "def remove_duplicate(s):\n",
        "    return \"\".join(OrderedDict.fromkeys(s))\n",
        "\n",
        "s=\"abcfgbsca\"\n",
        "print(\"After removing duplicates: \",remove_duplicate(s))"
      ],
      "metadata": {
        "colab": {
          "base_uri": "https://localhost:8080/"
        },
        "id": "moygt_6OLp8f",
        "outputId": "8ae21fc6-55c7-4cb6-c5e0-e7df8f5a5b6c"
      },
      "execution_count": 49,
      "outputs": [
        {
          "output_type": "stream",
          "name": "stdout",
          "text": [
            "After removing duplicates:  abcfgs\n"
          ]
        }
      ]
    },
    {
      "cell_type": "code",
      "source": [
        "#Question_10\n",
        "ls1 = [1,3,5,7,9]\n",
        "ls2 = [2,4,6,8,10]\n",
        "ls1.extend(ls2)\n",
        "print(ls1)"
      ],
      "metadata": {
        "colab": {
          "base_uri": "https://localhost:8080/"
        },
        "id": "QCFq_WGlNi7N",
        "outputId": "ae18a28e-ad54-46be-dec0-aac095944b1c"
      },
      "execution_count": 51,
      "outputs": [
        {
          "output_type": "stream",
          "name": "stdout",
          "text": [
            "[1, 3, 5, 7, 9, 2, 4, 6, 8, 10]\n"
          ]
        }
      ]
    },
    {
      "cell_type": "code",
      "source": [
        "#Question_4\n",
        "import array\n",
        "arr = []\n",
        "n = int(input(\"enter size of array : \"))\n",
        "for x in range(n):\n",
        "    x=int(input(\"enter element of array : \"))\n",
        "    arr.append(x)\n",
        "sorted_array = sorted(array.array('i', arr))\n",
        "for i in range(len(arr)-1, 0, -1):\n",
        "    if sorted_array[i]!=sorted_array[i-1]:\n",
        "        print(f\"First two largest element of array is {sorted_array[i-1]} and {sorted_array[i]}\")\n",
        "        break"
      ],
      "metadata": {
        "colab": {
          "base_uri": "https://localhost:8080/"
        },
        "id": "CoSYSMtpRd96",
        "outputId": "4ecaae22-ff9f-4530-b498-8744bdd6636b"
      },
      "execution_count": 66,
      "outputs": [
        {
          "output_type": "stream",
          "name": "stdout",
          "text": [
            "enter size of array : 10\n",
            "enter element of array : 9\n",
            "enter element of array : 5\n",
            "enter element of array : 10\n",
            "enter element of array : 9\n",
            "enter element of array : 85\n",
            "enter element of array : 8\n",
            "enter element of array : 5\n",
            "enter element of array : 4\n",
            "enter element of array : 6\n",
            "enter element of array : 8\n",
            "First two largest element of array is 10 and 85\n"
          ]
        }
      ]
    },
    {
      "cell_type": "code",
      "source": [
        "#Question_8\n",
        "c = 'a'\n",
        "\n",
        "if c == 'a' or c == 'e' or c == 'i' or c == 'o' or c == 'u' or c == 'A' or c == 'E' or c == 'I' or c == 'O' or c == 'U':\n",
        "    print(c, \"is a vowel\")\n",
        "else:\n",
        "    print(c, \"is a consonant\")"
      ],
      "metadata": {
        "colab": {
          "base_uri": "https://localhost:8080/"
        },
        "id": "4s66SiOxSlfp",
        "outputId": "cb9b618c-d807-43c4-b234-e0638519f8da"
      },
      "execution_count": 68,
      "outputs": [
        {
          "output_type": "stream",
          "name": "stdout",
          "text": [
            "a is a vowel\n"
          ]
        }
      ]
    },
    {
      "cell_type": "code",
      "source": [
        "#Qustion_9\n",
        "num = 7\n",
        "\n",
        "factorial = 1\n",
        "\n",
        "if num < 0:\n",
        "   print(\"Sorry, factorial does not exist for negative numbers\")\n",
        "elif num == 0:\n",
        "   print(\"The factorial of 0 is 1\")\n",
        "else:\n",
        "   for i in range(1,num + 1):\n",
        "       factorial = factorial*i\n",
        "   print(\"The factorial of\",num,\"is\",factorial)"
      ],
      "metadata": {
        "colab": {
          "base_uri": "https://localhost:8080/"
        },
        "id": "tKNCbuOFVrJf",
        "outputId": "7b6b13f4-baf5-422e-b90e-e8bc64af54c5"
      },
      "execution_count": 69,
      "outputs": [
        {
          "output_type": "stream",
          "name": "stdout",
          "text": [
            "The factorial of 7 is 5040\n"
          ]
        }
      ]
    },
    {
      "cell_type": "code",
      "source": [],
      "metadata": {
        "id": "OPAivmBDWHTO"
      },
      "execution_count": null,
      "outputs": []
    }
  ]
}